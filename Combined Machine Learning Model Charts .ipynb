{
 "cells": [
  {
   "cell_type": "code",
   "execution_count": 1,
   "metadata": {},
   "outputs": [],
   "source": [
    "import pandas as pd \n",
    "import numpy as np\n",
    "import seaborn as sns"
   ]
  },
  {
   "cell_type": "code",
   "execution_count": 2,
   "metadata": {},
   "outputs": [],
   "source": [
    "uba_trainData = {'day': ['Sunday', 'Sunday', 'Sunday', 'Sunday', 'Sunday', 'Monday', 'Monday', 'Monday', 'Monday',\n",
    "                         'Monday', 'Tuesday', 'Tuesday', 'Tuesday', 'Tuesday', 'Tuesday', 'Wednesday', 'Wednesday',\n",
    "                         'Wednesday', 'Wednesday', 'Wednesday', 'Thursday', 'Thursday', 'Thursday', 'Thursday',\n",
    "                         'Thursday', 'Friday', 'Friday', 'Friday', 'Friday', 'Friday', 'Saturday', 'Saturday',\n",
    "                         'Saturday', 'Saturday', 'Saturday'],\n",
    "                 'hour': [0, 3, 7, 9, 16, 1, 5, 8, 11, 18, 1, 4, 8, 16, 21, 0, 4, 9, 18, 22, 1, 6, 8, 19, 23, 1, 5,\n",
    "                          9, 19, 23, 0, 4, 10, 15, 20],\n",
    "                 'c_act': ['DNG', 'SNG', 'HEX', 'HEN', 'KEX', 'DNG', 'LNG', 'ENG', 'HEX', 'HEN', 'SNG', 'REX', 'CAY',\n",
    "                           'HEX', 'KEN', 'REN', 'SNG', 'HEX', 'CAY', 'KEX', 'REX', 'KEN', 'ENG', 'KEX', 'DNG', 'SNG',\n",
    "                           'BNG', 'HEX', 'CAY', 'REX', 'DNG', 'SNG', 'REN', 'CNG', 'KEX'],\n",
    "                 'p1_act': ['KEX', 'LNG', 'CAY', 'HEX', 'KEN', 'HEN', 'REN', 'KEX', 'REX', 'HEX', 'DNG', 'BNG', 'HEN',\n",
    "                            'DNG', 'ENG', 'SNG', 'KEX', 'CAY', 'REX', 'CNG', 'LNG', 'DNG', 'KEX', 'CNG', 'HEN', 'DNG',\n",
    "                            'LNG', 'KEX', 'REX', 'BNG', 'CAY', 'DNG', 'HEN', 'REN', 'KEN'],\n",
    "                 'p2_act': ['BNG', 'REN', 'KEX', 'KEX', 'ENG', 'ENG', 'KEX', 'CNG', 'CAY', 'DNG', 'KEX', 'REN', 'LNG',\n",
    "                            'BNG', 'HEX', 'ENG', 'KEN', 'DNG', 'LNG', 'KEN', 'REN', 'KEN', 'CNG', 'KEN', 'HEX', 'KEX',\n",
    "                            'REN', 'REX', 'REN', 'LNG', 'ENG', 'KEX', 'SNG', 'DNG', 'HEN'],\n",
    "                 'outcome': ['no', 'yes', 'yes', 'yes', 'yes', 'no', 'yes', 'yes', 'yes', 'yes', 'yes', 'yes', 'no',\n",
    "                             'no', 'no', 'yes', 'yes', 'yes', 'yes', 'no', 'yes', 'no', 'yes', 'yes', 'yes', 'no',\n",
    "                             'yes', 'no', 'yes', 'yes', 'no', 'yes', 'no', 'no', 'yes']\n",
    "                 }"
   ]
  },
  {
   "cell_type": "code",
   "execution_count": 4,
   "metadata": {},
   "outputs": [],
   "source": [
    "uba_traineddata = pd.DataFrame(uba_trainData)"
   ]
  },
  {
   "cell_type": "code",
   "execution_count": 5,
   "metadata": {},
   "outputs": [
    {
     "data": {
      "text/html": [
       "<div>\n",
       "<style scoped>\n",
       "    .dataframe tbody tr th:only-of-type {\n",
       "        vertical-align: middle;\n",
       "    }\n",
       "\n",
       "    .dataframe tbody tr th {\n",
       "        vertical-align: top;\n",
       "    }\n",
       "\n",
       "    .dataframe thead th {\n",
       "        text-align: right;\n",
       "    }\n",
       "</style>\n",
       "<table border=\"1\" class=\"dataframe\">\n",
       "  <thead>\n",
       "    <tr style=\"text-align: right;\">\n",
       "      <th></th>\n",
       "      <th>day</th>\n",
       "      <th>hour</th>\n",
       "      <th>c_act</th>\n",
       "      <th>p1_act</th>\n",
       "      <th>p2_act</th>\n",
       "      <th>outcome</th>\n",
       "    </tr>\n",
       "  </thead>\n",
       "  <tbody>\n",
       "    <tr>\n",
       "      <th>0</th>\n",
       "      <td>Sunday</td>\n",
       "      <td>0</td>\n",
       "      <td>DNG</td>\n",
       "      <td>KEX</td>\n",
       "      <td>BNG</td>\n",
       "      <td>no</td>\n",
       "    </tr>\n",
       "    <tr>\n",
       "      <th>1</th>\n",
       "      <td>Sunday</td>\n",
       "      <td>3</td>\n",
       "      <td>SNG</td>\n",
       "      <td>LNG</td>\n",
       "      <td>REN</td>\n",
       "      <td>yes</td>\n",
       "    </tr>\n",
       "    <tr>\n",
       "      <th>2</th>\n",
       "      <td>Sunday</td>\n",
       "      <td>7</td>\n",
       "      <td>HEX</td>\n",
       "      <td>CAY</td>\n",
       "      <td>KEX</td>\n",
       "      <td>yes</td>\n",
       "    </tr>\n",
       "    <tr>\n",
       "      <th>3</th>\n",
       "      <td>Sunday</td>\n",
       "      <td>9</td>\n",
       "      <td>HEN</td>\n",
       "      <td>HEX</td>\n",
       "      <td>KEX</td>\n",
       "      <td>yes</td>\n",
       "    </tr>\n",
       "    <tr>\n",
       "      <th>4</th>\n",
       "      <td>Sunday</td>\n",
       "      <td>16</td>\n",
       "      <td>KEX</td>\n",
       "      <td>KEN</td>\n",
       "      <td>ENG</td>\n",
       "      <td>yes</td>\n",
       "    </tr>\n",
       "    <tr>\n",
       "      <th>5</th>\n",
       "      <td>Monday</td>\n",
       "      <td>1</td>\n",
       "      <td>DNG</td>\n",
       "      <td>HEN</td>\n",
       "      <td>ENG</td>\n",
       "      <td>no</td>\n",
       "    </tr>\n",
       "    <tr>\n",
       "      <th>6</th>\n",
       "      <td>Monday</td>\n",
       "      <td>5</td>\n",
       "      <td>LNG</td>\n",
       "      <td>REN</td>\n",
       "      <td>KEX</td>\n",
       "      <td>yes</td>\n",
       "    </tr>\n",
       "    <tr>\n",
       "      <th>7</th>\n",
       "      <td>Monday</td>\n",
       "      <td>8</td>\n",
       "      <td>ENG</td>\n",
       "      <td>KEX</td>\n",
       "      <td>CNG</td>\n",
       "      <td>yes</td>\n",
       "    </tr>\n",
       "    <tr>\n",
       "      <th>8</th>\n",
       "      <td>Monday</td>\n",
       "      <td>11</td>\n",
       "      <td>HEX</td>\n",
       "      <td>REX</td>\n",
       "      <td>CAY</td>\n",
       "      <td>yes</td>\n",
       "    </tr>\n",
       "    <tr>\n",
       "      <th>9</th>\n",
       "      <td>Monday</td>\n",
       "      <td>18</td>\n",
       "      <td>HEN</td>\n",
       "      <td>HEX</td>\n",
       "      <td>DNG</td>\n",
       "      <td>yes</td>\n",
       "    </tr>\n",
       "    <tr>\n",
       "      <th>10</th>\n",
       "      <td>Tuesday</td>\n",
       "      <td>1</td>\n",
       "      <td>SNG</td>\n",
       "      <td>DNG</td>\n",
       "      <td>KEX</td>\n",
       "      <td>yes</td>\n",
       "    </tr>\n",
       "    <tr>\n",
       "      <th>11</th>\n",
       "      <td>Tuesday</td>\n",
       "      <td>4</td>\n",
       "      <td>REX</td>\n",
       "      <td>BNG</td>\n",
       "      <td>REN</td>\n",
       "      <td>yes</td>\n",
       "    </tr>\n",
       "    <tr>\n",
       "      <th>12</th>\n",
       "      <td>Tuesday</td>\n",
       "      <td>8</td>\n",
       "      <td>CAY</td>\n",
       "      <td>HEN</td>\n",
       "      <td>LNG</td>\n",
       "      <td>no</td>\n",
       "    </tr>\n",
       "    <tr>\n",
       "      <th>13</th>\n",
       "      <td>Tuesday</td>\n",
       "      <td>16</td>\n",
       "      <td>HEX</td>\n",
       "      <td>DNG</td>\n",
       "      <td>BNG</td>\n",
       "      <td>no</td>\n",
       "    </tr>\n",
       "    <tr>\n",
       "      <th>14</th>\n",
       "      <td>Tuesday</td>\n",
       "      <td>21</td>\n",
       "      <td>KEN</td>\n",
       "      <td>ENG</td>\n",
       "      <td>HEX</td>\n",
       "      <td>no</td>\n",
       "    </tr>\n",
       "    <tr>\n",
       "      <th>15</th>\n",
       "      <td>Wednesday</td>\n",
       "      <td>0</td>\n",
       "      <td>REN</td>\n",
       "      <td>SNG</td>\n",
       "      <td>ENG</td>\n",
       "      <td>yes</td>\n",
       "    </tr>\n",
       "    <tr>\n",
       "      <th>16</th>\n",
       "      <td>Wednesday</td>\n",
       "      <td>4</td>\n",
       "      <td>SNG</td>\n",
       "      <td>KEX</td>\n",
       "      <td>KEN</td>\n",
       "      <td>yes</td>\n",
       "    </tr>\n",
       "    <tr>\n",
       "      <th>17</th>\n",
       "      <td>Wednesday</td>\n",
       "      <td>9</td>\n",
       "      <td>HEX</td>\n",
       "      <td>CAY</td>\n",
       "      <td>DNG</td>\n",
       "      <td>yes</td>\n",
       "    </tr>\n",
       "    <tr>\n",
       "      <th>18</th>\n",
       "      <td>Wednesday</td>\n",
       "      <td>18</td>\n",
       "      <td>CAY</td>\n",
       "      <td>REX</td>\n",
       "      <td>LNG</td>\n",
       "      <td>yes</td>\n",
       "    </tr>\n",
       "    <tr>\n",
       "      <th>19</th>\n",
       "      <td>Wednesday</td>\n",
       "      <td>22</td>\n",
       "      <td>KEX</td>\n",
       "      <td>CNG</td>\n",
       "      <td>KEN</td>\n",
       "      <td>no</td>\n",
       "    </tr>\n",
       "    <tr>\n",
       "      <th>20</th>\n",
       "      <td>Thursday</td>\n",
       "      <td>1</td>\n",
       "      <td>REX</td>\n",
       "      <td>LNG</td>\n",
       "      <td>REN</td>\n",
       "      <td>yes</td>\n",
       "    </tr>\n",
       "    <tr>\n",
       "      <th>21</th>\n",
       "      <td>Thursday</td>\n",
       "      <td>6</td>\n",
       "      <td>KEN</td>\n",
       "      <td>DNG</td>\n",
       "      <td>KEN</td>\n",
       "      <td>no</td>\n",
       "    </tr>\n",
       "    <tr>\n",
       "      <th>22</th>\n",
       "      <td>Thursday</td>\n",
       "      <td>8</td>\n",
       "      <td>ENG</td>\n",
       "      <td>KEX</td>\n",
       "      <td>CNG</td>\n",
       "      <td>yes</td>\n",
       "    </tr>\n",
       "    <tr>\n",
       "      <th>23</th>\n",
       "      <td>Thursday</td>\n",
       "      <td>19</td>\n",
       "      <td>KEX</td>\n",
       "      <td>CNG</td>\n",
       "      <td>KEN</td>\n",
       "      <td>yes</td>\n",
       "    </tr>\n",
       "    <tr>\n",
       "      <th>24</th>\n",
       "      <td>Thursday</td>\n",
       "      <td>23</td>\n",
       "      <td>DNG</td>\n",
       "      <td>HEN</td>\n",
       "      <td>HEX</td>\n",
       "      <td>yes</td>\n",
       "    </tr>\n",
       "    <tr>\n",
       "      <th>25</th>\n",
       "      <td>Friday</td>\n",
       "      <td>1</td>\n",
       "      <td>SNG</td>\n",
       "      <td>DNG</td>\n",
       "      <td>KEX</td>\n",
       "      <td>no</td>\n",
       "    </tr>\n",
       "    <tr>\n",
       "      <th>26</th>\n",
       "      <td>Friday</td>\n",
       "      <td>5</td>\n",
       "      <td>BNG</td>\n",
       "      <td>LNG</td>\n",
       "      <td>REN</td>\n",
       "      <td>yes</td>\n",
       "    </tr>\n",
       "    <tr>\n",
       "      <th>27</th>\n",
       "      <td>Friday</td>\n",
       "      <td>9</td>\n",
       "      <td>HEX</td>\n",
       "      <td>KEX</td>\n",
       "      <td>REX</td>\n",
       "      <td>no</td>\n",
       "    </tr>\n",
       "    <tr>\n",
       "      <th>28</th>\n",
       "      <td>Friday</td>\n",
       "      <td>19</td>\n",
       "      <td>CAY</td>\n",
       "      <td>REX</td>\n",
       "      <td>REN</td>\n",
       "      <td>yes</td>\n",
       "    </tr>\n",
       "    <tr>\n",
       "      <th>29</th>\n",
       "      <td>Friday</td>\n",
       "      <td>23</td>\n",
       "      <td>REX</td>\n",
       "      <td>BNG</td>\n",
       "      <td>LNG</td>\n",
       "      <td>yes</td>\n",
       "    </tr>\n",
       "    <tr>\n",
       "      <th>30</th>\n",
       "      <td>Saturday</td>\n",
       "      <td>0</td>\n",
       "      <td>DNG</td>\n",
       "      <td>CAY</td>\n",
       "      <td>ENG</td>\n",
       "      <td>no</td>\n",
       "    </tr>\n",
       "    <tr>\n",
       "      <th>31</th>\n",
       "      <td>Saturday</td>\n",
       "      <td>4</td>\n",
       "      <td>SNG</td>\n",
       "      <td>DNG</td>\n",
       "      <td>KEX</td>\n",
       "      <td>yes</td>\n",
       "    </tr>\n",
       "    <tr>\n",
       "      <th>32</th>\n",
       "      <td>Saturday</td>\n",
       "      <td>10</td>\n",
       "      <td>REN</td>\n",
       "      <td>HEN</td>\n",
       "      <td>SNG</td>\n",
       "      <td>no</td>\n",
       "    </tr>\n",
       "    <tr>\n",
       "      <th>33</th>\n",
       "      <td>Saturday</td>\n",
       "      <td>15</td>\n",
       "      <td>CNG</td>\n",
       "      <td>REN</td>\n",
       "      <td>DNG</td>\n",
       "      <td>no</td>\n",
       "    </tr>\n",
       "    <tr>\n",
       "      <th>34</th>\n",
       "      <td>Saturday</td>\n",
       "      <td>20</td>\n",
       "      <td>KEX</td>\n",
       "      <td>KEN</td>\n",
       "      <td>HEN</td>\n",
       "      <td>yes</td>\n",
       "    </tr>\n",
       "  </tbody>\n",
       "</table>\n",
       "</div>"
      ],
      "text/plain": [
       "          day  hour c_act p1_act p2_act outcome\n",
       "0      Sunday     0   DNG    KEX    BNG      no\n",
       "1      Sunday     3   SNG    LNG    REN     yes\n",
       "2      Sunday     7   HEX    CAY    KEX     yes\n",
       "3      Sunday     9   HEN    HEX    KEX     yes\n",
       "4      Sunday    16   KEX    KEN    ENG     yes\n",
       "5      Monday     1   DNG    HEN    ENG      no\n",
       "6      Monday     5   LNG    REN    KEX     yes\n",
       "7      Monday     8   ENG    KEX    CNG     yes\n",
       "8      Monday    11   HEX    REX    CAY     yes\n",
       "9      Monday    18   HEN    HEX    DNG     yes\n",
       "10    Tuesday     1   SNG    DNG    KEX     yes\n",
       "11    Tuesday     4   REX    BNG    REN     yes\n",
       "12    Tuesday     8   CAY    HEN    LNG      no\n",
       "13    Tuesday    16   HEX    DNG    BNG      no\n",
       "14    Tuesday    21   KEN    ENG    HEX      no\n",
       "15  Wednesday     0   REN    SNG    ENG     yes\n",
       "16  Wednesday     4   SNG    KEX    KEN     yes\n",
       "17  Wednesday     9   HEX    CAY    DNG     yes\n",
       "18  Wednesday    18   CAY    REX    LNG     yes\n",
       "19  Wednesday    22   KEX    CNG    KEN      no\n",
       "20   Thursday     1   REX    LNG    REN     yes\n",
       "21   Thursday     6   KEN    DNG    KEN      no\n",
       "22   Thursday     8   ENG    KEX    CNG     yes\n",
       "23   Thursday    19   KEX    CNG    KEN     yes\n",
       "24   Thursday    23   DNG    HEN    HEX     yes\n",
       "25     Friday     1   SNG    DNG    KEX      no\n",
       "26     Friday     5   BNG    LNG    REN     yes\n",
       "27     Friday     9   HEX    KEX    REX      no\n",
       "28     Friday    19   CAY    REX    REN     yes\n",
       "29     Friday    23   REX    BNG    LNG     yes\n",
       "30   Saturday     0   DNG    CAY    ENG      no\n",
       "31   Saturday     4   SNG    DNG    KEX     yes\n",
       "32   Saturday    10   REN    HEN    SNG      no\n",
       "33   Saturday    15   CNG    REN    DNG      no\n",
       "34   Saturday    20   KEX    KEN    HEN     yes"
      ]
     },
     "execution_count": 5,
     "metadata": {},
     "output_type": "execute_result"
    }
   ],
   "source": [
    "uba_traineddata "
   ]
  },
  {
   "cell_type": "code",
   "execution_count": 6,
   "metadata": {},
   "outputs": [
    {
     "data": {
      "text/html": [
       "<div>\n",
       "<style scoped>\n",
       "    .dataframe tbody tr th:only-of-type {\n",
       "        vertical-align: middle;\n",
       "    }\n",
       "\n",
       "    .dataframe tbody tr th {\n",
       "        vertical-align: top;\n",
       "    }\n",
       "\n",
       "    .dataframe thead th {\n",
       "        text-align: right;\n",
       "    }\n",
       "</style>\n",
       "<table border=\"1\" class=\"dataframe\">\n",
       "  <thead>\n",
       "    <tr style=\"text-align: right;\">\n",
       "      <th></th>\n",
       "      <th>hour</th>\n",
       "    </tr>\n",
       "  </thead>\n",
       "  <tbody>\n",
       "    <tr>\n",
       "      <th>count</th>\n",
       "      <td>35.000000</td>\n",
       "    </tr>\n",
       "    <tr>\n",
       "      <th>mean</th>\n",
       "      <td>9.828571</td>\n",
       "    </tr>\n",
       "    <tr>\n",
       "      <th>std</th>\n",
       "      <td>7.594447</td>\n",
       "    </tr>\n",
       "    <tr>\n",
       "      <th>min</th>\n",
       "      <td>0.000000</td>\n",
       "    </tr>\n",
       "    <tr>\n",
       "      <th>25%</th>\n",
       "      <td>4.000000</td>\n",
       "    </tr>\n",
       "    <tr>\n",
       "      <th>50%</th>\n",
       "      <td>8.000000</td>\n",
       "    </tr>\n",
       "    <tr>\n",
       "      <th>75%</th>\n",
       "      <td>17.000000</td>\n",
       "    </tr>\n",
       "    <tr>\n",
       "      <th>max</th>\n",
       "      <td>23.000000</td>\n",
       "    </tr>\n",
       "  </tbody>\n",
       "</table>\n",
       "</div>"
      ],
      "text/plain": [
       "            hour\n",
       "count  35.000000\n",
       "mean    9.828571\n",
       "std     7.594447\n",
       "min     0.000000\n",
       "25%     4.000000\n",
       "50%     8.000000\n",
       "75%    17.000000\n",
       "max    23.000000"
      ]
     },
     "execution_count": 6,
     "metadata": {},
     "output_type": "execute_result"
    }
   ],
   "source": [
    "uba_traineddata.describe() "
   ]
  },
  {
   "cell_type": "code",
   "execution_count": 7,
   "metadata": {},
   "outputs": [
    {
     "name": "stdout",
     "output_type": "stream",
     "text": [
      "<class 'pandas.core.frame.DataFrame'>\n",
      "RangeIndex: 35 entries, 0 to 34\n",
      "Data columns (total 6 columns):\n",
      " #   Column   Non-Null Count  Dtype \n",
      "---  ------   --------------  ----- \n",
      " 0   day      35 non-null     object\n",
      " 1   hour     35 non-null     int64 \n",
      " 2   c_act    35 non-null     object\n",
      " 3   p1_act   35 non-null     object\n",
      " 4   p2_act   35 non-null     object\n",
      " 5   outcome  35 non-null     object\n",
      "dtypes: int64(1), object(5)\n",
      "memory usage: 1.8+ KB\n"
     ]
    }
   ],
   "source": [
    "uba_traineddata.info()"
   ]
  },
  {
   "cell_type": "code",
   "execution_count": 8,
   "metadata": {},
   "outputs": [
    {
     "data": {
      "text/plain": [
       "day        0\n",
       "hour       0\n",
       "c_act      0\n",
       "p1_act     0\n",
       "p2_act     0\n",
       "outcome    0\n",
       "dtype: int64"
      ]
     },
     "execution_count": 8,
     "metadata": {},
     "output_type": "execute_result"
    }
   ],
   "source": [
    "uba_traineddata.isnull().sum()"
   ]
  },
  {
   "cell_type": "code",
   "execution_count": 10,
   "metadata": {},
   "outputs": [
    {
     "data": {
      "text/plain": [
       "(35, 6)"
      ]
     },
     "execution_count": 10,
     "metadata": {},
     "output_type": "execute_result"
    }
   ],
   "source": [
    "uba_traineddata.shape"
   ]
  },
  {
   "cell_type": "code",
   "execution_count": 13,
   "metadata": {},
   "outputs": [
    {
     "data": {
      "text/plain": [
       "210"
      ]
     },
     "execution_count": 13,
     "metadata": {},
     "output_type": "execute_result"
    }
   ],
   "source": [
    "uba_traineddata.size"
   ]
  },
  {
   "cell_type": "code",
   "execution_count": 14,
   "metadata": {},
   "outputs": [
    {
     "data": {
      "text/plain": [
       "<matplotlib.axes._subplots.AxesSubplot at 0x2af9e037188>"
      ]
     },
     "execution_count": 14,
     "metadata": {},
     "output_type": "execute_result"
    },
    {
     "data": {
      "image/png": "[encoded data removed]",
      "text/plain": [
       "<Figure size 432x288 with 1 Axes>"
      ]
     },
     "metadata": {
      "needs_background": "light"
     },
     "output_type": "display_data"
    }
   ],
   "source": [
    "sns.barplot(x ='day', y = 'hour', data=uba_traineddata)"
   ]
  },
  {
   "cell_type": "code",
   "execution_count": 17,
   "metadata": {},
   "outputs": [
    {
     "data": {
      "text/plain": [
       "<matplotlib.axes._subplots.AxesSubplot at 0x2af9e19efc8>"
      ]
     },
     "execution_count": 17,
     "metadata": {},
     "output_type": "execute_result"
    },
    {
     "data": {
      "image/png": "[encoded data removed]",
      "text/plain": [
       "<Figure size 432x288 with 1 Axes>"
      ]
     },
     "metadata": {
      "needs_background": "light"
     },
     "output_type": "display_data"
    }
   ],
   "source": [
    "sns.barplot(x= 'hour', y = 'c_act', data = uba_traineddata)"
   ]
  },
  {
   "cell_type": "code",
   "execution_count": 23,
   "metadata": {},
   "outputs": [
    {
     "data": {
      "text/plain": [
       "<matplotlib.axes._subplots.AxesSubplot at 0x2afa0356f48>"
      ]
     },
     "execution_count": 23,
     "metadata": {},
     "output_type": "execute_result"
    },
    {
     "data": {
      "image/png": "[encoded data removed]",
      "text/plain": [
       "<Figure size 432x288 with 1 Axes>"
      ]
     },
     "metadata": {
      "needs_background": "light"
     },
     "output_type": "display_data"
    }
   ],
   "source": [
    "sns.boxenplot(x = 'outcome', y= 'hour', data = uba_traineddata)"
   ]
  },
  {
   "cell_type": "code",
   "execution_count": 27,
   "metadata": {},
   "outputs": [
    {
     "data": {
      "text/plain": [
       "<matplotlib.axes._subplots.AxesSubplot at 0x2afa0413408>"
      ]
     },
     "execution_count": 27,
     "metadata": {},
     "output_type": "execute_result"
    },
    {
     "data": {
      "image/png": "[encoded data removed]",
      "text/plain": [
       "<Figure size 432x288 with 1 Axes>"
      ]
     },
     "metadata": {
      "needs_background": "light"
     },
     "output_type": "display_data"
    }
   ],
   "source": [
    "sns.boxplot(x = 'c_act', y= 'hour', data = uba_traineddata)"
   ]
  },
  {
   "cell_type": "code",
   "execution_count": 37,
   "metadata": {},
   "outputs": [
    {
     "data": {
      "text/plain": [
       "<matplotlib.axes._subplots.AxesSubplot at 0x2afa1ee5608>"
      ]
     },
     "execution_count": 37,
     "metadata": {},
     "output_type": "execute_result"
    },
    {
     "data": {
      "image/png": "[encoded data removed]",
      "text/plain": [
       "<Figure size 432x288 with 1 Axes>"
      ]
     },
     "metadata": {
      "needs_background": "light"
     },
     "output_type": "display_data"
    }
   ],
   "source": [
    "sns.boxplot(x = 'p1_act', y= 'hour', data = uba_traineddata)"
   ]
  },
  {
   "cell_type": "code",
   "execution_count": 36,
   "metadata": {},
   "outputs": [
    {
     "data": {
      "text/plain": [
       "<matplotlib.axes._subplots.AxesSubplot at 0x2afa1c45a08>"
      ]
     },
     "execution_count": 36,
     "metadata": {},
     "output_type": "execute_result"
    },
    {
     "data": {
      "image/png": "[encoded data removed]",
      "text/plain": [
       "<Figure size 432x288 with 1 Axes>"
      ]
     },
     "metadata": {
      "needs_background": "light"
     },
     "output_type": "display_data"
    }
   ],
   "source": [
    "sns.boxplot(x = 'p2_act', y= 'hour', data = uba_traineddata)"
   ]
  },
  {
   "cell_type": "code",
   "execution_count": 40,
   "metadata": {},
   "outputs": [
    {
     "data": {
      "text/plain": [
       "<matplotlib.axes._subplots.AxesSubplot at 0x2afa1c360c8>"
      ]
     },
     "execution_count": 40,
     "metadata": {},
     "output_type": "execute_result"
    },
    {
     "data": {
      "image/png": "[encoded data removed]",
      "text/plain": [
       "<Figure size 432x288 with 1 Axes>"
      ]
     },
     "metadata": {
      "needs_background": "light"
     },
     "output_type": "display_data"
    }
   ],
   "source": [
    "sns.countplot(x = 'outcome', data = uba_traineddata)"
   ]
  },
  {
   "cell_type": "code",
   "execution_count": 43,
   "metadata": {},
   "outputs": [
    {
     "data": {
      "text/plain": [
       "<matplotlib.axes._subplots.AxesSubplot at 0x2afa2231508>"
      ]
     },
     "execution_count": 43,
     "metadata": {},
     "output_type": "execute_result"
    },
    {
     "data": {
      "image/png": "[encoded data removed]",
      "text/plain": [
       "<Figure size 432x288 with 1 Axes>"
      ]
     },
     "metadata": {
      "needs_background": "light"
     },
     "output_type": "display_data"
    }
   ],
   "source": [
    "sns.countplot(y =  'c_act', data = uba_traineddata)"
   ]
  },
  {
   "cell_type": "code",
   "execution_count": null,
   "metadata": {},
   "outputs": [],
   "source": []
  }
 ],
 "metadata": {
  "kernelspec": {
   "display_name": "Python 3",
   "language": "python",
   "name": "python3"
  },
  "language_info": {
   "codemirror_mode": {
    "name": "ipython",
    "version": 3
   },
   "file_extension": ".py",
   "mimetype": "text/x-python",
   "name": "python",
   "nbconvert_exporter": "python",
   "pygments_lexer": "ipython3",
   "version": "3.7.6"
  }
 },
 "nbformat": 4,
 "nbformat_minor": 4
}
