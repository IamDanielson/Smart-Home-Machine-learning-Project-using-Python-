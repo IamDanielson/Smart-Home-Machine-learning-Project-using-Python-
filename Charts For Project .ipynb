{
 "cells": [
  {
   "cell_type": "code",
   "execution_count": 1,
   "metadata": {},
   "outputs": [],
   "source": [
    "import pandas as pds\n",
    "import numpy as npy"
   ]
  },
  {
   "cell_type": "code",
   "execution_count": 3,
   "metadata": {},
   "outputs": [],
   "source": [
    "har_trainData = {'ms00': [1, 0, 0, 0, 0, 0, 0, 0, 0, 0, 0, 0, 0],\n",
    "                 'ms01': [0, 1, 0, 0, 0, 0, 0, 0, 0, 0, 0, 0, 0],\n",
    "                 'ms06': [0, 0, 1, 0, 0, 0, 0, 0, 0, 0, 0, 0, 0],\n",
    "                 'ms07': [0, 0, 0, 1, 0, 0, 0, 0, 0, 0, 0, 0, 0],\n",
    "                 'ms04': [0, 0, 0, 0, 0, 1, 0, 0, 0, 0, 0, 0, 0],\n",
    "                 'ms05': [0, 0, 0, 0, 1, 0, 0, 0, 0, 0, 0, 0, 0],\n",
    "                 'ms02': [0, 0, 0, 0, 0, 0, 0, 1, 0, 0, 1, 0, 0],\n",
    "                 'ms03': [0, 0, 0, 0, 0, 0, 0, 0, 0, 0, 0, 1, 0],\n",
    "                 'ms08': [0, 0, 0, 0, 0, 0, 1, 0, 0, 0, 0, 0, 0],\n",
    "                 'Ts09': [0, 0, 0, 0, 0, 0, 0, 1, 0, 1, 0, 0, 0],\n",
    "                 'Ws10': [0, 0, 0, 0, 0, 0, 0, 0, 1, 0, 0, 0, 0],\n",
    "                 'ms11': [0, 0, 0, 0, 0, 0, 0, 0, 0, 0, 0, 0, 1],\n",
    "                 'Activity': ['hex', 'hen', 'kex', 'ken', 'ren', 'rex', 'sng', 'eng', 'bng', 'cng', 'dng', 'lng',\n",
    "                              'cay']}"
   ]
  },
  {
   "cell_type": "code",
   "execution_count": 5,
   "metadata": {},
   "outputs": [],
   "source": [
    "har_trainData=pds.DataFrame(har_trainData)"
   ]
  },
  {
   "cell_type": "code",
   "execution_count": 6,
   "metadata": {},
   "outputs": [
    {
     "data": {
      "text/html": [
       "<div>\n",
       "<style scoped>\n",
       "    .dataframe tbody tr th:only-of-type {\n",
       "        vertical-align: middle;\n",
       "    }\n",
       "\n",
       "    .dataframe tbody tr th {\n",
       "        vertical-align: top;\n",
       "    }\n",
       "\n",
       "    .dataframe thead th {\n",
       "        text-align: right;\n",
       "    }\n",
       "</style>\n",
       "<table border=\"1\" class=\"dataframe\">\n",
       "  <thead>\n",
       "    <tr style=\"text-align: right;\">\n",
       "      <th></th>\n",
       "      <th>ms00</th>\n",
       "      <th>ms01</th>\n",
       "      <th>ms06</th>\n",
       "      <th>ms07</th>\n",
       "      <th>ms04</th>\n",
       "      <th>ms05</th>\n",
       "      <th>ms02</th>\n",
       "      <th>ms03</th>\n",
       "      <th>ms08</th>\n",
       "      <th>Ts09</th>\n",
       "      <th>Ws10</th>\n",
       "      <th>ms11</th>\n",
       "      <th>Activity</th>\n",
       "    </tr>\n",
       "  </thead>\n",
       "  <tbody>\n",
       "    <tr>\n",
       "      <th>0</th>\n",
       "      <td>1</td>\n",
       "      <td>0</td>\n",
       "      <td>0</td>\n",
       "      <td>0</td>\n",
       "      <td>0</td>\n",
       "      <td>0</td>\n",
       "      <td>0</td>\n",
       "      <td>0</td>\n",
       "      <td>0</td>\n",
       "      <td>0</td>\n",
       "      <td>0</td>\n",
       "      <td>0</td>\n",
       "      <td>hex</td>\n",
       "    </tr>\n",
       "    <tr>\n",
       "      <th>1</th>\n",
       "      <td>0</td>\n",
       "      <td>1</td>\n",
       "      <td>0</td>\n",
       "      <td>0</td>\n",
       "      <td>0</td>\n",
       "      <td>0</td>\n",
       "      <td>0</td>\n",
       "      <td>0</td>\n",
       "      <td>0</td>\n",
       "      <td>0</td>\n",
       "      <td>0</td>\n",
       "      <td>0</td>\n",
       "      <td>hen</td>\n",
       "    </tr>\n",
       "    <tr>\n",
       "      <th>2</th>\n",
       "      <td>0</td>\n",
       "      <td>0</td>\n",
       "      <td>1</td>\n",
       "      <td>0</td>\n",
       "      <td>0</td>\n",
       "      <td>0</td>\n",
       "      <td>0</td>\n",
       "      <td>0</td>\n",
       "      <td>0</td>\n",
       "      <td>0</td>\n",
       "      <td>0</td>\n",
       "      <td>0</td>\n",
       "      <td>kex</td>\n",
       "    </tr>\n",
       "    <tr>\n",
       "      <th>3</th>\n",
       "      <td>0</td>\n",
       "      <td>0</td>\n",
       "      <td>0</td>\n",
       "      <td>1</td>\n",
       "      <td>0</td>\n",
       "      <td>0</td>\n",
       "      <td>0</td>\n",
       "      <td>0</td>\n",
       "      <td>0</td>\n",
       "      <td>0</td>\n",
       "      <td>0</td>\n",
       "      <td>0</td>\n",
       "      <td>ken</td>\n",
       "    </tr>\n",
       "    <tr>\n",
       "      <th>4</th>\n",
       "      <td>0</td>\n",
       "      <td>0</td>\n",
       "      <td>0</td>\n",
       "      <td>0</td>\n",
       "      <td>0</td>\n",
       "      <td>1</td>\n",
       "      <td>0</td>\n",
       "      <td>0</td>\n",
       "      <td>0</td>\n",
       "      <td>0</td>\n",
       "      <td>0</td>\n",
       "      <td>0</td>\n",
       "      <td>ren</td>\n",
       "    </tr>\n",
       "    <tr>\n",
       "      <th>5</th>\n",
       "      <td>0</td>\n",
       "      <td>0</td>\n",
       "      <td>0</td>\n",
       "      <td>0</td>\n",
       "      <td>1</td>\n",
       "      <td>0</td>\n",
       "      <td>0</td>\n",
       "      <td>0</td>\n",
       "      <td>0</td>\n",
       "      <td>0</td>\n",
       "      <td>0</td>\n",
       "      <td>0</td>\n",
       "      <td>rex</td>\n",
       "    </tr>\n",
       "    <tr>\n",
       "      <th>6</th>\n",
       "      <td>0</td>\n",
       "      <td>0</td>\n",
       "      <td>0</td>\n",
       "      <td>0</td>\n",
       "      <td>0</td>\n",
       "      <td>0</td>\n",
       "      <td>0</td>\n",
       "      <td>0</td>\n",
       "      <td>1</td>\n",
       "      <td>0</td>\n",
       "      <td>0</td>\n",
       "      <td>0</td>\n",
       "      <td>sng</td>\n",
       "    </tr>\n",
       "    <tr>\n",
       "      <th>7</th>\n",
       "      <td>0</td>\n",
       "      <td>0</td>\n",
       "      <td>0</td>\n",
       "      <td>0</td>\n",
       "      <td>0</td>\n",
       "      <td>0</td>\n",
       "      <td>1</td>\n",
       "      <td>0</td>\n",
       "      <td>0</td>\n",
       "      <td>1</td>\n",
       "      <td>0</td>\n",
       "      <td>0</td>\n",
       "      <td>eng</td>\n",
       "    </tr>\n",
       "    <tr>\n",
       "      <th>8</th>\n",
       "      <td>0</td>\n",
       "      <td>0</td>\n",
       "      <td>0</td>\n",
       "      <td>0</td>\n",
       "      <td>0</td>\n",
       "      <td>0</td>\n",
       "      <td>0</td>\n",
       "      <td>0</td>\n",
       "      <td>0</td>\n",
       "      <td>0</td>\n",
       "      <td>1</td>\n",
       "      <td>0</td>\n",
       "      <td>bng</td>\n",
       "    </tr>\n",
       "    <tr>\n",
       "      <th>9</th>\n",
       "      <td>0</td>\n",
       "      <td>0</td>\n",
       "      <td>0</td>\n",
       "      <td>0</td>\n",
       "      <td>0</td>\n",
       "      <td>0</td>\n",
       "      <td>0</td>\n",
       "      <td>0</td>\n",
       "      <td>0</td>\n",
       "      <td>1</td>\n",
       "      <td>0</td>\n",
       "      <td>0</td>\n",
       "      <td>cng</td>\n",
       "    </tr>\n",
       "    <tr>\n",
       "      <th>10</th>\n",
       "      <td>0</td>\n",
       "      <td>0</td>\n",
       "      <td>0</td>\n",
       "      <td>0</td>\n",
       "      <td>0</td>\n",
       "      <td>0</td>\n",
       "      <td>1</td>\n",
       "      <td>0</td>\n",
       "      <td>0</td>\n",
       "      <td>0</td>\n",
       "      <td>0</td>\n",
       "      <td>0</td>\n",
       "      <td>dng</td>\n",
       "    </tr>\n",
       "    <tr>\n",
       "      <th>11</th>\n",
       "      <td>0</td>\n",
       "      <td>0</td>\n",
       "      <td>0</td>\n",
       "      <td>0</td>\n",
       "      <td>0</td>\n",
       "      <td>0</td>\n",
       "      <td>0</td>\n",
       "      <td>1</td>\n",
       "      <td>0</td>\n",
       "      <td>0</td>\n",
       "      <td>0</td>\n",
       "      <td>0</td>\n",
       "      <td>lng</td>\n",
       "    </tr>\n",
       "    <tr>\n",
       "      <th>12</th>\n",
       "      <td>0</td>\n",
       "      <td>0</td>\n",
       "      <td>0</td>\n",
       "      <td>0</td>\n",
       "      <td>0</td>\n",
       "      <td>0</td>\n",
       "      <td>0</td>\n",
       "      <td>0</td>\n",
       "      <td>0</td>\n",
       "      <td>0</td>\n",
       "      <td>0</td>\n",
       "      <td>1</td>\n",
       "      <td>cay</td>\n",
       "    </tr>\n",
       "  </tbody>\n",
       "</table>\n",
       "</div>"
      ],
      "text/plain": [
       "    ms00  ms01  ms06  ms07  ms04  ms05  ms02  ms03  ms08  Ts09  Ws10  ms11  \\\n",
       "0      1     0     0     0     0     0     0     0     0     0     0     0   \n",
       "1      0     1     0     0     0     0     0     0     0     0     0     0   \n",
       "2      0     0     1     0     0     0     0     0     0     0     0     0   \n",
       "3      0     0     0     1     0     0     0     0     0     0     0     0   \n",
       "4      0     0     0     0     0     1     0     0     0     0     0     0   \n",
       "5      0     0     0     0     1     0     0     0     0     0     0     0   \n",
       "6      0     0     0     0     0     0     0     0     1     0     0     0   \n",
       "7      0     0     0     0     0     0     1     0     0     1     0     0   \n",
       "8      0     0     0     0     0     0     0     0     0     0     1     0   \n",
       "9      0     0     0     0     0     0     0     0     0     1     0     0   \n",
       "10     0     0     0     0     0     0     1     0     0     0     0     0   \n",
       "11     0     0     0     0     0     0     0     1     0     0     0     0   \n",
       "12     0     0     0     0     0     0     0     0     0     0     0     1   \n",
       "\n",
       "   Activity  \n",
       "0       hex  \n",
       "1       hen  \n",
       "2       kex  \n",
       "3       ken  \n",
       "4       ren  \n",
       "5       rex  \n",
       "6       sng  \n",
       "7       eng  \n",
       "8       bng  \n",
       "9       cng  \n",
       "10      dng  \n",
       "11      lng  \n",
       "12      cay  "
      ]
     },
     "execution_count": 6,
     "metadata": {},
     "output_type": "execute_result"
    }
   ],
   "source": [
    "har_trainData"
   ]
  },
  {
   "cell_type": "code",
   "execution_count": 7,
   "metadata": {},
   "outputs": [
    {
     "data": {
      "text/plain": [
       "169"
      ]
     },
     "execution_count": 7,
     "metadata": {},
     "output_type": "execute_result"
    }
   ],
   "source": [
    "har_trainData.size"
   ]
  },
  {
   "cell_type": "code",
   "execution_count": 8,
   "metadata": {},
   "outputs": [
    {
     "data": {
      "text/plain": [
       "(13, 13)"
      ]
     },
     "execution_count": 8,
     "metadata": {},
     "output_type": "execute_result"
    }
   ],
   "source": [
    "har_trainData.shape"
   ]
  },
  {
   "cell_type": "code",
   "execution_count": 11,
   "metadata": {},
   "outputs": [
    {
     "data": {
      "text/html": [
       "<div>\n",
       "<style scoped>\n",
       "    .dataframe tbody tr th:only-of-type {\n",
       "        vertical-align: middle;\n",
       "    }\n",
       "\n",
       "    .dataframe tbody tr th {\n",
       "        vertical-align: top;\n",
       "    }\n",
       "\n",
       "    .dataframe thead th {\n",
       "        text-align: right;\n",
       "    }\n",
       "</style>\n",
       "<table border=\"1\" class=\"dataframe\">\n",
       "  <thead>\n",
       "    <tr style=\"text-align: right;\">\n",
       "      <th></th>\n",
       "      <th>ms00</th>\n",
       "      <th>ms01</th>\n",
       "      <th>ms06</th>\n",
       "      <th>ms07</th>\n",
       "      <th>ms04</th>\n",
       "      <th>ms05</th>\n",
       "      <th>ms02</th>\n",
       "      <th>ms03</th>\n",
       "      <th>ms08</th>\n",
       "      <th>Ts09</th>\n",
       "      <th>Ws10</th>\n",
       "      <th>ms11</th>\n",
       "    </tr>\n",
       "  </thead>\n",
       "  <tbody>\n",
       "    <tr>\n",
       "      <th>count</th>\n",
       "      <td>13.000000</td>\n",
       "      <td>13.000000</td>\n",
       "      <td>13.000000</td>\n",
       "      <td>13.000000</td>\n",
       "      <td>13.000000</td>\n",
       "      <td>13.000000</td>\n",
       "      <td>13.000000</td>\n",
       "      <td>13.000000</td>\n",
       "      <td>13.000000</td>\n",
       "      <td>13.000000</td>\n",
       "      <td>13.000000</td>\n",
       "      <td>13.000000</td>\n",
       "    </tr>\n",
       "    <tr>\n",
       "      <th>mean</th>\n",
       "      <td>0.076923</td>\n",
       "      <td>0.076923</td>\n",
       "      <td>0.076923</td>\n",
       "      <td>0.076923</td>\n",
       "      <td>0.076923</td>\n",
       "      <td>0.076923</td>\n",
       "      <td>0.153846</td>\n",
       "      <td>0.076923</td>\n",
       "      <td>0.076923</td>\n",
       "      <td>0.153846</td>\n",
       "      <td>0.076923</td>\n",
       "      <td>0.076923</td>\n",
       "    </tr>\n",
       "    <tr>\n",
       "      <th>std</th>\n",
       "      <td>0.277350</td>\n",
       "      <td>0.277350</td>\n",
       "      <td>0.277350</td>\n",
       "      <td>0.277350</td>\n",
       "      <td>0.277350</td>\n",
       "      <td>0.277350</td>\n",
       "      <td>0.375534</td>\n",
       "      <td>0.277350</td>\n",
       "      <td>0.277350</td>\n",
       "      <td>0.375534</td>\n",
       "      <td>0.277350</td>\n",
       "      <td>0.277350</td>\n",
       "    </tr>\n",
       "    <tr>\n",
       "      <th>min</th>\n",
       "      <td>0.000000</td>\n",
       "      <td>0.000000</td>\n",
       "      <td>0.000000</td>\n",
       "      <td>0.000000</td>\n",
       "      <td>0.000000</td>\n",
       "      <td>0.000000</td>\n",
       "      <td>0.000000</td>\n",
       "      <td>0.000000</td>\n",
       "      <td>0.000000</td>\n",
       "      <td>0.000000</td>\n",
       "      <td>0.000000</td>\n",
       "      <td>0.000000</td>\n",
       "    </tr>\n",
       "    <tr>\n",
       "      <th>25%</th>\n",
       "      <td>0.000000</td>\n",
       "      <td>0.000000</td>\n",
       "      <td>0.000000</td>\n",
       "      <td>0.000000</td>\n",
       "      <td>0.000000</td>\n",
       "      <td>0.000000</td>\n",
       "      <td>0.000000</td>\n",
       "      <td>0.000000</td>\n",
       "      <td>0.000000</td>\n",
       "      <td>0.000000</td>\n",
       "      <td>0.000000</td>\n",
       "      <td>0.000000</td>\n",
       "    </tr>\n",
       "    <tr>\n",
       "      <th>50%</th>\n",
       "      <td>0.000000</td>\n",
       "      <td>0.000000</td>\n",
       "      <td>0.000000</td>\n",
       "      <td>0.000000</td>\n",
       "      <td>0.000000</td>\n",
       "      <td>0.000000</td>\n",
       "      <td>0.000000</td>\n",
       "      <td>0.000000</td>\n",
       "      <td>0.000000</td>\n",
       "      <td>0.000000</td>\n",
       "      <td>0.000000</td>\n",
       "      <td>0.000000</td>\n",
       "    </tr>\n",
       "    <tr>\n",
       "      <th>75%</th>\n",
       "      <td>0.000000</td>\n",
       "      <td>0.000000</td>\n",
       "      <td>0.000000</td>\n",
       "      <td>0.000000</td>\n",
       "      <td>0.000000</td>\n",
       "      <td>0.000000</td>\n",
       "      <td>0.000000</td>\n",
       "      <td>0.000000</td>\n",
       "      <td>0.000000</td>\n",
       "      <td>0.000000</td>\n",
       "      <td>0.000000</td>\n",
       "      <td>0.000000</td>\n",
       "    </tr>\n",
       "    <tr>\n",
       "      <th>max</th>\n",
       "      <td>1.000000</td>\n",
       "      <td>1.000000</td>\n",
       "      <td>1.000000</td>\n",
       "      <td>1.000000</td>\n",
       "      <td>1.000000</td>\n",
       "      <td>1.000000</td>\n",
       "      <td>1.000000</td>\n",
       "      <td>1.000000</td>\n",
       "      <td>1.000000</td>\n",
       "      <td>1.000000</td>\n",
       "      <td>1.000000</td>\n",
       "      <td>1.000000</td>\n",
       "    </tr>\n",
       "  </tbody>\n",
       "</table>\n",
       "</div>"
      ],
      "text/plain": [
       "            ms00       ms01       ms06       ms07       ms04       ms05  \\\n",
       "count  13.000000  13.000000  13.000000  13.000000  13.000000  13.000000   \n",
       "mean    0.076923   0.076923   0.076923   0.076923   0.076923   0.076923   \n",
       "std     0.277350   0.277350   0.277350   0.277350   0.277350   0.277350   \n",
       "min     0.000000   0.000000   0.000000   0.000000   0.000000   0.000000   \n",
       "25%     0.000000   0.000000   0.000000   0.000000   0.000000   0.000000   \n",
       "50%     0.000000   0.000000   0.000000   0.000000   0.000000   0.000000   \n",
       "75%     0.000000   0.000000   0.000000   0.000000   0.000000   0.000000   \n",
       "max     1.000000   1.000000   1.000000   1.000000   1.000000   1.000000   \n",
       "\n",
       "            ms02       ms03       ms08       Ts09       Ws10       ms11  \n",
       "count  13.000000  13.000000  13.000000  13.000000  13.000000  13.000000  \n",
       "mean    0.153846   0.076923   0.076923   0.153846   0.076923   0.076923  \n",
       "std     0.375534   0.277350   0.277350   0.375534   0.277350   0.277350  \n",
       "min     0.000000   0.000000   0.000000   0.000000   0.000000   0.000000  \n",
       "25%     0.000000   0.000000   0.000000   0.000000   0.000000   0.000000  \n",
       "50%     0.000000   0.000000   0.000000   0.000000   0.000000   0.000000  \n",
       "75%     0.000000   0.000000   0.000000   0.000000   0.000000   0.000000  \n",
       "max     1.000000   1.000000   1.000000   1.000000   1.000000   1.000000  "
      ]
     },
     "execution_count": 11,
     "metadata": {},
     "output_type": "execute_result"
    }
   ],
   "source": [
    "har_trainData.describe()"
   ]
  },
  {
   "cell_type": "code",
   "execution_count": 10,
   "metadata": {},
   "outputs": [
    {
     "name": "stdout",
     "output_type": "stream",
     "text": [
      "<class 'pandas.core.frame.DataFrame'>\n",
      "RangeIndex: 13 entries, 0 to 12\n",
      "Data columns (total 13 columns):\n",
      " #   Column    Non-Null Count  Dtype \n",
      "---  ------    --------------  ----- \n",
      " 0   ms00      13 non-null     int64 \n",
      " 1   ms01      13 non-null     int64 \n",
      " 2   ms06      13 non-null     int64 \n",
      " 3   ms07      13 non-null     int64 \n",
      " 4   ms04      13 non-null     int64 \n",
      " 5   ms05      13 non-null     int64 \n",
      " 6   ms02      13 non-null     int64 \n",
      " 7   ms03      13 non-null     int64 \n",
      " 8   ms08      13 non-null     int64 \n",
      " 9   Ts09      13 non-null     int64 \n",
      " 10  Ws10      13 non-null     int64 \n",
      " 11  ms11      13 non-null     int64 \n",
      " 12  Activity  13 non-null     object\n",
      "dtypes: int64(12), object(1)\n",
      "memory usage: 1.4+ KB\n"
     ]
    }
   ],
   "source": [
    "har_trainData.info()"
   ]
  },
  {
   "cell_type": "code",
   "execution_count": 12,
   "metadata": {},
   "outputs": [
    {
     "data": {
      "text/plain": [
       "<matplotlib.axes._subplots.AxesSubplot at 0x2ad2d7ffac8>"
      ]
     },
     "execution_count": 12,
     "metadata": {},
     "output_type": "execute_result"
    },
    {
     "data": {
      "image/png": "[encoded data removed]",
      "text/plain": [
       "<Figure size 432x288 with 1 Axes>"
      ]
     },
     "metadata": {},
     "output_type": "display_data"
    }
   ],
   "source": [
    "import seaborn as sns \n",
    "sns.set()\n",
    "graph = sns.scatterplot(x='ms00', y= 'Activity', data=har_trainData)\n",
    "graph"
   ]
  },
  {
   "cell_type": "code",
   "execution_count": 13,
   "metadata": {},
   "outputs": [
    {
     "data": {
      "text/plain": [
       "<matplotlib.axes._subplots.AxesSubplot at 0x2ad314522c8>"
      ]
     },
     "execution_count": 13,
     "metadata": {},
     "output_type": "execute_result"
    },
    {
     "data": {
      "image/png": "[encoded data removed]",
      "text/plain": [
       "<Figure size 432x288 with 1 Axes>"
      ]
     },
     "metadata": {},
     "output_type": "display_data"
    }
   ],
   "source": [
    "import seaborn as sns \n",
    "sns.set()\n",
    "graph = sns.barplot(x='ms00', y= 'Activity', data=har_trainData)\n",
    "graph"
   ]
  },
  {
   "cell_type": "code",
   "execution_count": 14,
   "metadata": {},
   "outputs": [
    {
     "data": {
      "text/plain": [
       "<matplotlib.axes._subplots.AxesSubplot at 0x2ad312c3e08>"
      ]
     },
     "execution_count": 14,
     "metadata": {},
     "output_type": "execute_result"
    },
    {
     "data": {
      "image/png": "[encoded data removed]",
      "text/plain": [
       "<Figure size 432x288 with 1 Axes>"
      ]
     },
     "metadata": {},
     "output_type": "display_data"
    }
   ],
   "source": [
    "import seaborn as sns \n",
    "sns.set()\n",
    "graph = sns.barplot(x='ms00', y= 'ms01', data=har_trainData)\n",
    "graph "
   ]
  },
  {
   "cell_type": "code",
   "execution_count": 15,
   "metadata": {},
   "outputs": [
    {
     "data": {
      "text/plain": [
       "<matplotlib.axes._subplots.AxesSubplot at 0x2ad2c6098c8>"
      ]
     },
     "execution_count": 15,
     "metadata": {},
     "output_type": "execute_result"
    },
    {
     "data": {
      "image/png": "[encoded data removed]",
      "text/plain": [
       "<Figure size 432x288 with 1 Axes>"
      ]
     },
     "metadata": {},
     "output_type": "display_data"
    }
   ],
   "source": [
    " import seaborn as sns \n",
    "sns.set()\n",
    "graph = sns.barplot(x='ms00', y= 'ms06', data=har_trainData)\n",
    "graph"
   ]
  },
  {
   "cell_type": "code",
   "execution_count": null,
   "metadata": {},
   "outputs": [],
   "source": [
    "uba_trainData = {'day': ['Sunday','Sunday','Sunday','Sunday','Sunday','Sunday','Sunday','Sunday','Sunday','Sunday','Sunday','Sunday','Sunday','Sunday','Sunday','Sunday','Sunday','Sunday','Sunday','Sunday','Sunday','Sunday','Sunday','Sunday','Sunday','Sunday','Sunday','Sunday','Sunday','Sunday','Sunday','Sunday','Sunday','Sunday','Sunday','Sunday','Sunday','Sunday','Sunday','Sunday','Sunday','Sunday','Sunday','Sunday','Sunday','Sunday','Sunday','Sunday','Sunday','Sunday',\n",
    "                         'Monday','Monday','Monday','Monday','Monday','Monday','Monday','Monday','Monday','Monday','Monday','Monday','Monday','Monday','Monday','Monday','Monday','Monday','Monday','Monday','Monday','Monday','Monday','Monday','Monday','Monday','Monday','Monday','Monday','Monday','Monday','Monday','Monday','Monday','Monday','Monday','Monday','Monday','Monday','Monday','Monday','Monday','Monday','Monday','Monday','Monday','Monday','Monday','Monday','Monday', \n",
    "                         'Tuesday','Tuesday','Tuesday','Tuesday','Tuesday','Tuesday','Tuesday','Tuesday','Tuesday','Tuesday','Tuesday','Tuesday','Tuesday','Tuesday','Tuesday','Tuesday','Tuesday','Tuesday','Tuesday','Tuesday','Tuesday','Tuesday','Tuesday','Tuesday','Tuesday','Tuesday','Tuesday','Tuesday','Tuesday','Tuesday','Tuesday','Tuesday','Tuesday','Tuesday','Tuesday','Tuesday','Tuesday','Tuesday','Tuesday','Tuesday','Tuesday','Tuesday','Tuesday','Tuesday','Tuesday','Tuesday','Tuesday','Tuesday','Tuesday','Tuesday',\n",
    "                         'Wednesday','Wednesday','Wednesday','Wednesday','Wednesday','Wednesday','Wednesday','Wednesday','Wednesday','Wednesday','Wednesday','Wednesday','Wednesday','Wednesday','Wednesday','Wednesday','Wednesday','Wednesday','Wednesday','Wednesday','Wednesday','Wednesday','Wednesday','Wednesday','Wednesday','Wednesday','Wednesday','Wednesday','Wednesday','Wednesday','Wednesday','Wednesday','Wednesday','Wednesday','Wednesday','Wednesday','Wednesday','Wednesday','Wednesday','Wednesday','Wednesday','Wednesday','Wednesday','Wednesday','Wednesday','Wednesday','Wednesday','Wednesday','Wednesday','Wednesday',\n",
    "                         'Thursday','Thursday','Thursday','Thursday','Thursday','Thursday','Thursday','Thursday','Thursday','Thursday','Thursday','Thursday','Thursday','Thursday','Thursday','Thursday','Thursday','Thursday','Thursday','Thursday','Thursday','Thursday','Thursday','Thursday','Thursday','Thursday','Thursday','Thursday','Thursday','Thursday','Thursday','Thursday','Thursday','Thursday','Thursday','Thursday','Thursday','Thursday','Thursday','Thursday','Thursday','Thursday','Thursday','Thursday','Thursday','Thursday','Thursday','Thursday','Thursday','Thursday',\n",
    "                         'Friday','Friday','Friday','Friday','Friday','Friday','Friday','Friday','Friday','Friday','Friday','Friday','Friday','Friday','Friday','Friday','Friday','Friday','Friday','Friday','Friday','Friday','Friday','Friday','Friday','Friday','Friday','Friday','Friday','Friday','Friday','Friday','Friday','Friday','Friday','Friday','Friday','Friday','Friday','Friday','Friday','Friday','Friday','Friday','Friday','Friday','Friday','Friday','Friday','Friday','Friday','Friday','Friday','Friday','Friday','Friday','Friday','Friday','Friday',\n",
    "                         'Saturday','Saturday','Saturday','Saturday','Saturday','Saturday','Saturday','Saturday','Saturday','Saturday','Saturday','Saturday','Saturday','Saturday','Saturday','Saturday','Saturday','Saturday','Saturday','Saturday','Saturday','Saturday','Saturday','Saturday','Saturday','Saturday','Saturday','Saturday','Saturday','Saturday','Saturday','Saturday','Saturday','Saturday','Saturday','Saturday','Saturday','Saturday','Saturday','Saturday','Saturday','Saturday','Saturday','Saturday','Saturday','Saturday','Saturday','Saturday','Saturday'],\n",
    "                 'hour': [3,7,2,18,9,2,14,1,14,20,8,1,19,5,6,4,5,15, 22, 13, 10, 19, 20,9,13,15,9,9,12,1,23,11,2,23,0,11,16,16,11,6,0,4,6,1,5,17,11,20,10,7,3,5,18,12,0,1,3,9,13,13,2,2,19,14,1,0,18,5,1,4,5,5,22,20,5,8,0,11,12,3,7,12,0,23,5,23,9,7,23,17,15,9,4,3,1,18,9,20,19,4,10,1,19,13,21,5,0,16,2,16,8,1,15,17,16,18,19,18,23,8,22,3,1,13,18,23,13,3,15,11,4,1,12,4,0,13,23,16,17,4,13,22,8,5,23,16,7,3,8,14,23,1,3,2,14,14,6,22,21,4,2,4,16,13,10,8,23,5,8,11,20,1,20,13,8,22,8,3,0,10,10,9,22,3,17,20,15,2,3,10,0,20,19,20,8,20,3,15,20,16,15,7,4,22,5,19,6,17,22,6,3,22,8,13,10,13,20,18,9,10,22,12,15,2,20,18,15,15,9,0,2,0,15,3,13,11,8,23,20,7,18,23,19,16,17,20,10,0,18,16,14,10,18,2,8,19,23,21,27,17,1,11,21,2,9,15,10,5,21,1,22,5,3,8,13,9,10,3,5,12,13,2,10,5,7,0,2,15,14,15,9,2,4,10,13,7,8,5,8,8,13,10,11,4,0,15,11,5,14,13,9,11,6,8,5,11,14,3,13,17,13,14,0,10,3,20,16,9,3,8,0,2,4,4,10,20,18,0,20,5,11,6,10,20,6,23,17,18],\n",
    "                 'c_act': ['DNG', 'SNG', 'HEX', 'HEN', 'KEX', 'DNG', 'LNG', 'ENG', 'HEX', 'HEN', 'SNG', 'REX', 'CAY',\n",
    "                           'HEX', 'KEN', 'REN', 'SNG', 'HEX', 'CAY', 'KEX', 'REX', 'KEN', 'ENG', 'KEX', 'DNG', 'SNG',\n",
    "                           'BNG', 'HEX', 'CAY', 'REX', 'DNG', 'SNG', 'REN', 'CNG', 'KEX'],\n",
    "                 'p1_act': ['KEX', 'LNG', 'CAY', 'HEX', 'KEN', 'HEN', 'REN', 'KEX', 'REX', 'HEX', 'DNG', 'BNG', 'HEN',\n",
    "                            'DNG', 'ENG', 'SNG', 'KEX', 'CAY', 'REX', 'CNG', 'LNG', 'DNG', 'KEX', 'CNG', 'HEN', 'DNG',\n",
    "                            'LNG', 'KEX', 'REX', 'BNG', 'CAY', 'DNG', 'HEN', 'REN', 'KEN'],\n",
    "                 'p2_act': ['BNG', 'REN', 'KEX', 'KEX', 'ENG', 'ENG', 'KEX', 'CNG', 'CAY', 'DNG', 'KEX', 'REN', 'LNG',\n",
    "                            'BNG', 'HEX', 'ENG', 'KEN', 'DNG', 'LNG', 'KEN', 'REN', 'KEN', 'CNG', 'KEN', 'HEX', 'KEX',\n",
    "                            'REN', 'REX', 'REN', 'LNG', 'ENG', 'KEX', 'SNG', 'DNG', 'HEN'],\n",
    "                 'outcome': ['no', 'yes', 'yes', 'yes', 'yes', 'no', 'yes', 'yes', 'yes', 'yes', 'yes', 'yes', 'no',\n",
    "                             'no', 'no', 'yes', 'yes', 'yes', 'yes', 'no', 'yes', 'no', 'yes', 'yes', 'yes', 'no',\n",
    "                             'yes', 'no', 'yes', 'yes', 'no', 'yes', 'no', 'no', 'yes']\n",
    "                         }"
   ]
  },
  {
   "cell_type": "code",
   "execution_count": 38,
   "metadata": {},
   "outputs": [
    {
     "data": {
      "text/plain": [
       "['DNG',\n",
       " 'DNG',\n",
       " 'DNG',\n",
       " 'DNG',\n",
       " 'DNG',\n",
       " 'DNG',\n",
       " 'DNG',\n",
       " 'DNG',\n",
       " 'DNG',\n",
       " 'DNG',\n",
       " 'DNG',\n",
       " 'DNG',\n",
       " 'DNG',\n",
       " 'DNG',\n",
       " 'DNG',\n",
       " 'DNG',\n",
       " 'DNG',\n",
       " 'DNG',\n",
       " 'DNG',\n",
       " 'DNG',\n",
       " 'DNG',\n",
       " 'DNG',\n",
       " 'DNG',\n",
       " 'DNG',\n",
       " 'DNG',\n",
       " 'DNG',\n",
       " 'DNG',\n",
       " 'DNG',\n",
       " 'DNG',\n",
       " 'DNG',\n",
       " 'DNG',\n",
       " 'DNG',\n",
       " 'DNG',\n",
       " 'DNG',\n",
       " 'DNG',\n",
       " 'DNG',\n",
       " 'DNG',\n",
       " 'DNG',\n",
       " 'DNG',\n",
       " 'DNG',\n",
       " 'DNG',\n",
       " 'DNG',\n",
       " 'DNG',\n",
       " 'DNG',\n",
       " 'DNG',\n",
       " 'DNG',\n",
       " 'DNG',\n",
       " 'DNG',\n",
       " 'DNG',\n",
       " 'DNG']"
      ]
     },
     "execution_count": 38,
     "metadata": {},
     "output_type": "execute_result"
    }
   ],
   "source": [
    "['DNG',]*50"
   ]
  },
  {
   "cell_type": "code",
   "execution_count": 35,
   "metadata": {},
   "outputs": [
    {
     "name": "stdout",
     "output_type": "stream",
     "text": [
      "This is good \n",
      "lets see\n"
     ]
    }
   ],
   "source": [
    "print ('This is good','\\nlets see')"
   ]
  },
  {
   "cell_type": "code",
   "execution_count": null,
   "metadata": {},
   "outputs": [],
   "source": []
  }
 ],
 "metadata": {
  "kernelspec": {
   "display_name": "Python 3",
   "language": "python",
   "name": "python3"
  },
  "language_info": {
   "codemirror_mode": {
    "name": "ipython",
    "version": 3
   },
   "file_extension": ".py",
   "mimetype": "text/x-python",
   "name": "python",
   "nbconvert_exporter": "python",
   "pygments_lexer": "ipython3",
   "version": "3.7.6"
  }
 },
 "nbformat": 4,
 "nbformat_minor": 4
}
